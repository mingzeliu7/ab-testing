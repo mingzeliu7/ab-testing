{
 "cells": [
  {
   "cell_type": "markdown",
   "metadata": {},
   "source": [
    "# Evaluating the Solutions for the Knapsack Competition"
   ]
  },
  {
   "cell_type": "markdown",
   "metadata": {},
   "source": [
    "### First lets generate the 500 random knapsack sizes and write the results to a csv"
   ]
  },
  {
   "cell_type": "code",
   "execution_count": 4,
   "metadata": {},
   "outputs": [],
   "source": [
    "import numpy as np\n",
    "import pandas as pd\n",
    "\n",
    "f = open(\"Knap_Sizes.csv\", \"w\")\n",
    "\n",
    "c = list(np.random.randint(100,151,500))\n",
    "\n",
    "for i in c:\n",
    "    f.write('%s\\n' %int(i))\n",
    "    \n",
    "f.close()"
   ]
  },
  {
   "cell_type": "markdown",
   "metadata": {},
   "source": [
    "### Last, let us evaluate the solution file based on the randomly generated knapsack sizes. "
   ]
  },
  {
   "cell_type": "code",
   "execution_count": 19,
   "metadata": {
    "scrolled": false
   },
   "outputs": [
    {
     "data": {
      "text/plain": [
       "0"
      ]
     },
     "execution_count": 19,
     "metadata": {},
     "output_type": "execute_result"
    }
   ],
   "source": [
    "submitted_file_path = \"test_knapsack_solution.csv\"\n",
    "\n",
    "def Evaluate_Sol(file_path):\n",
    "\n",
    "    c=100\n",
    "    \n",
    "    for i in range(0,1500,3):\n",
    "\n",
    "        K = [[0 for x in range(c + 1)] for x in range(50 + 1)] \n",
    "  \n",
    "    # Build table K[][] in bottom up manner \n",
    "    for i in range(50 + 1): \n",
    "        for w in range(c + 1): \n",
    "            if i == 0 or w == 0: \n",
    "                K[i][w] = 0\n",
    "            elif wt[i-1] <= w: \n",
    "                K[i][w] = max(val[i-1] \n",
    "                          + K[i-1][w-wt[i-1]],   \n",
    "                              K[i-1][w]) \n",
    "            else: \n",
    "                K[i][w] = K[i-1][w] \n",
    "  \n",
    "        return K[50][c] \n",
    "        \n",
    "        if total_size <= C:\n",
    "            current_obj+=total_reward\n",
    "    #return {student_id: current_obj}\n",
    "    return current_obj\n",
    "\n",
    "\n",
    "final_results = Evaluate_Sol(submitted_file_path)\n",
    "final_results"
   ]
  },
  {
   "cell_type": "code",
   "execution_count": null,
   "metadata": {},
   "outputs": [],
   "source": []
  },
  {
   "cell_type": "code",
   "execution_count": null,
   "metadata": {},
   "outputs": [],
   "source": []
  }
 ],
 "metadata": {
  "kernelspec": {
   "display_name": "Python 3",
   "language": "python",
   "name": "python3"
  },
  "language_info": {
   "codemirror_mode": {
    "name": "ipython",
    "version": 3
   },
   "file_extension": ".py",
   "mimetype": "text/x-python",
   "name": "python",
   "nbconvert_exporter": "python",
   "pygments_lexer": "ipython3",
   "version": "3.8.3"
  },
  "toc": {
   "nav_menu": {
    "height": "30px",
    "width": "252px"
   },
   "number_sections": true,
   "sideBar": true,
   "skip_h1_title": false,
   "toc_cell": false,
   "toc_position": {},
   "toc_section_display": "block",
   "toc_window_display": false
  }
 },
 "nbformat": 4,
 "nbformat_minor": 2
}
